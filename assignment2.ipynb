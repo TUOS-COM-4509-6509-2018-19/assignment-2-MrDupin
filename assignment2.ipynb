{
 "cells": [
  {
   "cell_type": "markdown",
   "metadata": {},
   "source": [
    "# Objective Functions: A Simple Example with Matrix Factorisation.\n",
    "\n",
    "### 6th October 2015 Neil D. Lawrence\n",
    "\n",
    "### Modified by Mauricio A Álvarez, 1st October 2018\n",
    "\n",
    "In last week's class we saw how we could load in a data set to pandas and use it for some simple data processing. We computed various probabilities on the data and I encouraged you to think about what sort of probabilities you need for prediction. This week we are going to take a slightly different tack. \n",
    "\n",
    "Broadly speaking there are two dominating approaches to machine learning problems. We started to consider the first approach last week: constructing models based on defining the relationship between variables using probabilities. This week we will consider the second approach: which involves defining an *objective function* and optimizing it. \n",
    "\n",
    "What do we mean by an objective function? An objective function could be an *error function*, a *cost function* or a *benefit* function. In evolutionary computing they are called *fitness* functions. But the idea is always the same. We write down a mathematical equation which is then optimized to do the learning. The equation should be a function of the *data* and our model *parameters*. We have a choice when optimizing, either minimize or maximize. To avoid confusion, in the optimization field, we always choose to minimize the function. If we have a function that we would like to maximize, we simply choose to minimize the negative of that function. \n",
    "\n",
    "So for this lab session, we are going to ignore probabilities, but don't worry, they will return! \n",
    "\n",
    "This week we are going to try and build a simple movie recommender system using an objective function. To do this, the first thing I'd like you to do is to install some software we've written for sharing information across google documents.\n",
    "\n",
    "## Open Data Science Software\n",
    "\n",
    "In Sheffield we have written a suite of software tools for 'Open Data Science'. Open data science is an approach to sharing code, models and data that should make it easier for companies, health professionals and scientists to gain access to data science techniques. For some background on open data science you can read [this blog post](http://inverseprobability.com/2014/07/01/open-data-science/). The first thing we will do this week is to download that suite of software. \n",
    "\n",
    "The software can be installed using\n",
    "\n",
    "```python\n",
    "pip install pods\n",
    "```\n",
    "\n",
    "from the command prompt where you can access your python installation.\n",
    "\n",
    "\n",
    "## Download the MovieLens 100k Data\n",
    "\n",
    "We are going to download the [MovieLens 100k](http://files.grouplens.org/datasets/movielens/ml-latest-small-README.html) Data. This is a public dataset that contains 100,000 ratings and 3,600 tag applications applied to 9,000 movies by 600 users. When you use a data set that someone has prepared you should always reference the data source to acknowledge the work that's been placed in. This particular dataset was collected by the [Grouplens Research group](https://grouplens.org/),  at the University of Minnesota. For example, if you were to use this dataset for writing a paper, the authors ask you that you acknowledge their work by citing the following paper:\n",
    "\n",
    "F. Maxwell Harper and Joseph A. Konstan. 2015. The MovieLens Datasets: History and Context. ACM Transactions on Interactive Intelligent Systems (TiiS) 5 (4):1-19 [https://doi.org/10.1145/2827872](https://doi.org/10.1145/2827872)"
   ]
  },
  {
   "cell_type": "code",
   "execution_count": 1,
   "metadata": {},
   "outputs": [
    {
     "name": "stdout",
     "output_type": "stream",
     "text": [
      "Downloading  http://files.grouplens.org/datasets/movielens/ml-latest-small.zip -> .\\ml-latest-small.zip\n",
      "[==============================]   0.933/0.933MB                                                                                                                                                                                                                                                                                                                                                                                                                                                                                                                                                                                                                                                                                                                                                                                                                                                                                                                                                                                                                                                                                                                                                                                                                                                                                                                                                                                                                                                                                                                                                                                                                                                                                                                                                                                                                                                                                                                                                                                                                                                                                                                                                                                                                                                                                                                                                                                                                                                                                                                                                                                                                                                                                                                                                                                                                                                                                                                                                                                                                                                                                                                                                                                                                                                                                                                                                                                                                                                                                                                                                                                                                                                                                                                                                                                                                                                                                                                                                                                                                                                                                                                                                                                                                                                                                                                                                                                                                                                                                                                                                                                                                                                                                                                                                                                                                                                                                                                                                                                                                                                                                                                                                                                                                                                                                                                                                                                                                                                                                                                                                                                                                                                                                                                                                                                                                                                                                                                                                                                                \n"
     ]
    }
   ],
   "source": [
    "import pods\n",
    "import zipfile\n",
    "import sys\n",
    "import pandas as pd\n",
    "import numpy as np\n",
    "\n",
    "pods.util.download_url(\"http://files.grouplens.org/datasets/movielens/ml-latest-small.zip\")\n",
    "zip_console = zipfile.ZipFile('ml-latest-small.zip', 'r')\n",
    "for name in zip_console.namelist():\n",
    "           zip_console.extract(name, './')"
   ]
  },
  {
   "cell_type": "markdown",
   "metadata": {},
   "source": [
    "### Assignment Question 1\n",
    "\n",
    "Data ethics. If you find data available on the internet, can you simply use it without consequence? If you are given data by a fellow researcher can you publish that data on line? \n",
    "\n",
    "*5 marks*"
   ]
  },
  {
   "cell_type": "markdown",
   "metadata": {},
   "source": [
    "#### Question 1 Answer\n",
    "\n",
    "No, we can neither use data we find online nor publish data given to us by a fellow researcher.\n",
    "\n",
    "Data found online may be licensed in a certain way so that it can't be used, it may require attribution/credit to the original author/s, we may need explicit permission to use it, etc.\n",
    "\n",
    "For data given to us, we are not allowed to publish it online unless we have explicit permission to do so and with proper attribution."
   ]
  },
  {
   "cell_type": "markdown",
   "metadata": {},
   "source": [
    "## Recommender Systems\n",
    "\n",
    "A recommender system aims to make suggestions for items (films, books, other commercial products) given what it knows about users' tastes. The recommendation engine needs to represent the *taste* of all the users and the *characteristics* of each object. \n",
    "\n",
    "A common way for organizing objects is to place related objects spatially close together. For example in a library we try and put books that are on related topics near to each other on the shelves. One system for doing this is known as [Dewey Decimal Classification](http://en.wikipedia.org/wiki/Dewey_Decimal_Classification). In the Dewey Decimal Classification system (which dates from 1876) each subject is given a number (in fact it's a decimal number). For example, the field of Natural Sciences and Mathematics is given numbers which start with 500. Subjects based on Computer Science are given numbers which start 004 and works on the 'mathematical principles' of Computer science are given the series 004.0151 (which we might store as 4.0151 on a Computer). Whilst it's a classification system, the books in the library are typically laid out in the same order as the numbers, so we might expect that neighbouring numbers represent books that are related in subject. That seems to be exactly what we want when also representing films. Could we somehow represent each film's subject according to a number? In a similar way we could then imagine representing users with a list of numbers that represent things that each user is interested in.\n",
    "\n",
    "Actually a one dimensional representation of a subject can be very awkward. To see this, let's have a look at the Dewey Decimal Classification numbers for the 900s, which is listed as 'History and Geography'. We will focus on subjects in the 940s which can be found in this list from [Wikipedia](https://en.wikipedia.org/wiki/List_of_Dewey_Decimal_classes#Class_900_%E2%80%93_History_&_geography). Whilst the ordering for places is somewhat sensible, it is also rather arbitrary. In the 940s we have Europe listed from 940-949, Asia listed from 950-959 and Africa listed from 960-969. Whilst it's true that Asia borders Europe, Africa is also very close, and the history of the Roman Empire spreads into [Carthage](http://en.wikipedia.org/wiki/Carthage) and later on Egypt. This image from Wikipedia shows a map of the Cathaginian Empire which fell after fighting with Rome. \n",
    "\n",
    "\n",
    "<a title=\"By Javierfv1212 [Public domain], from Wikimedia Commons\" href=\"https://commons.wikimedia.org/wiki/File:Carthaginianempire.PNG\"><img width=\"512\" alt=\"Carthaginianempire\" src=\"https://upload.wikimedia.org/wikipedia/commons/thumb/9/9b/Carthaginianempire.PNG/512px-Carthaginianempire.PNG\"></a>\n",
    "\n",
    "We now need to make a decision about whether Roman Histories are European or African, ideally we'd like them to be somewhere between the two, but we can't place them there in the Dewey Decimal system because between Europe and Africa is Asia, which has less to do with the Roman Empire than either Europe or Africa. Of course the fact that we've used a map provides a clue as to what to do next. Libraries are actually laid out on floors, so what if we were to use the spatial lay out to organise the sujbects of the books in two dimensions. Books on Geography could be laid out according to where in the world they are referring to. \n",
    "\n",
    "Such complexities are very hard to encapsulate in one number, but inspired by the map examples we can start considering how we might lay out films in two dimensions. Similarly, we can consider laying out a map of people's interests. If the two maps correspond to one another, the map of people could reflect where they might want to live in 'subject space'. We can think of representing people's tastes as where they might best like to sit in the library to access easily the books they are most interested in.\n",
    "\n",
    "\n",
    "## Inner Products for Representing Similarity\n",
    "\n",
    "Ideas like the above are good for gaining intuitions about what we might want, but the one of the skills of data science is representing those ideas mathematically. Mathematical abstraction of a problem is one of the key ways in which we've been able to progress as a society. Understanding planetary motions, as well as those of the smallest molecule (to quote Laplace's [Philosophical Essay on Probabilities](http://books.google.co.uk/books?id=1YQPAAAAQAAJ&printsec=frontcover&source=gbs_ge_summary_r&cad=0#v=onepage&q&f=false)) needed to be done mathematically. The right mathematical model in machine learning can be slightly more elusive, because constructing it is a two stage process. \n",
    "\n",
    "1. We have to determine the right intuition for the system we want to represent. Notions such as 'subject' and 'interest' are not mathematically well defined, and even when we create a new interpretation of what they might mean, each interpretation may have its own weaknesses. \n",
    "\n",
    "2. Once we have our interpretation we can attempt to mathematically formalize it. In our library interpretation, that's what we need to do next. \n",
    "\n",
    "### The Library on an Infinite Plane\n",
    "\n",
    "Let's imagine a library which stores all the items  we are interested in, not just books, but films and shopping items too. Such a library is likely to be very large, so we'll create it on an infinite two dimensional plane. This means we can use all the real numbers to represent the location of each item on the plane. For a two dimensional plane, we need to store the locations in a vector of numbers: we can decide that the $j$th item's location in the library is given by \n",
    "$$\n",
    "\\mathbf{v}_j = \\begin{bmatrix} v_{j,1} \\\\ v_{j,2}\\end{bmatrix},\n",
    "$$\n",
    "where $v_{j,1}$ represents the $j$th item's location in the East-West direction (or the $x$-axis) and $v_{j,2}$ represents the $j$th item's location in the North-South direction (or the $y$-axis). Now we need to specify the location where each user sits so that all the items that interest them are nearby: we can also represent the $i$th user's location with a vector \n",
    "$$\n",
    "\\mathbf{u}_i = \\begin{bmatrix} u_{i,1} \\\\ u_{i,2}\\end{bmatrix}.\n",
    "$$\n",
    "Finally, we need some way of recording a given user's affinity for a given item. This affinity might be the rating that the user gives the film. We can use $y_{i,j}$ to represent user $i$'s affinity for item $j$. \n",
    "\n",
    "For our film example we might imagine wanting to order films in a few ways. We could imagine organising films in the North-South direction as to how romantic they are. We could place the more romantic films further North and the less romantic films further South. For the East-West direction we could imagine ordering them according to how historic they are: we can imagine placing science fiction films to the East and historical drama to the West. In this case, fans of historical romances would be based in the North-West location, whilst fans of Science Fiction Action films might be located in the South-East (if we assume that 'Action' is the opposite of 'Romance', which is not necessarily the case). How do we lay out all these films? Have we got the right axes? In machine learning the answer is to 'let the data speak'. Use the data to try and obtain such a lay out. To do this we first need to obtain the data."
   ]
  },
  {
   "cell_type": "markdown",
   "metadata": {},
   "source": [
    "## Obtaining the Data\n",
    "\n",
    "As mentioned before, the MovieLens dataset that we'll use has 100,000 ratings to 9,000 movies by 600 users. For now, we will only work with a subset of the dataset. In particular, we will randomly chose a particular number of users and extract the movies and ratings that the users gave to those movies. Read the code below and understand what it is doing.\n",
    "\n",
    "**Before you run the code**, notice that `YourStudentID` in the first line is a variable that will specify the seed for the random number generator that will select a particular set of `nUsersInExample` users. Change the number that has been assigned by default to `YourStudentID` to the last three digits of your UCard number. All of you will have a different subset of users."
   ]
  },
  {
   "cell_type": "code",
   "execution_count": 2,
   "metadata": {},
   "outputs": [],
   "source": [
    "YourStudentID = 988  # Include here the last three digits of your UCard number\n",
    "nUsersInExample = 10 # The maximum number of Users we're going to analyse at one time\n",
    "\n",
    "ratings = pd.read_csv(\"./ml-latest-small/ratings.csv\") \n",
    "\"\"\"\n",
    "ratings is a DataFrame with four columns: userId, movieId, rating and tags. We\n",
    "first want to identify how many unique users there are. We can use the unique \n",
    "method in pandas\n",
    "\"\"\"\n",
    "indexes_unique_users = ratings['userId'].unique()\n",
    "n_users = indexes_unique_users.shape[0]\n",
    "\"\"\" \n",
    "We randomly select 'nUsers' users with their ratings. We first fix the seed\n",
    "of the random generator to make sure that we always get the same 'nUsers'\n",
    "\"\"\"\n",
    "np.random.seed(YourStudentID)\n",
    "indexes_users = np.random.permutation(n_users)\n",
    "my_batch_users = indexes_users[0:nUsersInExample]\n",
    "\"\"\"\n",
    "We will use now the list of 'my_batch_users' to create a matrix Y. \n",
    "\"\"\"\n",
    "# We need to make a list of the movies that these users have watched\n",
    "list_movies_each_user = [[] for _ in range(nUsersInExample)]\n",
    "list_ratings_each_user = [[] for _ in range(nUsersInExample)]\n",
    "# Movies\n",
    "list_movies = ratings['movieId'][ratings['userId'] == my_batch_users[0]].values\n",
    "list_movies_each_user[0] = list_movies                    \n",
    "# Ratings                      \n",
    "list_ratings = ratings['rating'][ratings['userId'] == my_batch_users[0]].values\n",
    "list_ratings_each_user[0] = list_ratings\n",
    "# Users\n",
    "n_each_user = list_movies.shape[0]\n",
    "list_users = my_batch_users[0]*np.ones((1, n_each_user))\n",
    "\n",
    "for i in range(1, nUsersInExample):\n",
    "    # Movies\n",
    "    local_list_per_user_movies = ratings['movieId'][ratings['userId'] == my_batch_users[i]].values\n",
    "    list_movies_each_user[i] = local_list_per_user_movies\n",
    "    list_movies = np.append(list_movies,local_list_per_user_movies)\n",
    "    # Ratings                                 \n",
    "    local_list_per_user_ratings = ratings['rating'][ratings['userId'] == my_batch_users[i]].values\n",
    "    list_ratings_each_user[i] = local_list_per_user_ratings\n",
    "    list_ratings = np.append(list_ratings, local_list_per_user_ratings)  \n",
    "    # Users                                   \n",
    "    n_each_user = local_list_per_user_movies.shape[0]                                                                               \n",
    "    local_rep_user =  my_batch_users[i]*np.ones((1, n_each_user))    \n",
    "    list_users = np.append(list_users, local_rep_user)\n",
    "\n",
    "# Let us first see how many unique movies have been rated\n",
    "indexes_unique_movies = np.unique(list_movies)\n",
    "n_movies = indexes_unique_movies.shape[0]\n",
    "# As it is expected no all users have rated all movies. We will build a matrix Y \n",
    "# with NaN inputs and fill according to the data for each user \n",
    "temp = np.empty((n_movies,nUsersInExample,))\n",
    "temp[:] = np.nan\n",
    "Y_with_NaNs = pd.DataFrame(temp)\n",
    "for i in range(nUsersInExample):\n",
    " local_movies = list_movies_each_user[i]\n",
    " ixs = np.in1d(indexes_unique_movies, local_movies)\n",
    " Y_with_NaNs.loc[ixs, i] = list_ratings_each_user[i]\n",
    "\n",
    "Y_with_NaNs.index = indexes_unique_movies.tolist()\n",
    "Y_with_NaNs.columns = my_batch_users.tolist()"
   ]
  },
  {
   "cell_type": "markdown",
   "metadata": {},
   "source": [
    "### Assignment Question 2\n",
    "\n",
    "Have a look at the matrix `Y_with_NaNs`. The movies data is now in a data frame which contains one column for each user rating the movie. There are some entries that contain 'NaN'. What does the 'NaN' mean in this context?\n",
    "\n",
    "*5 marks*"
   ]
  },
  {
   "cell_type": "markdown",
   "metadata": {},
   "source": [
    "#### Answer Question 2\n",
    "\n",
    "Generally, a `NaN` denotes a missing value. In this context, a `NaN` value at `(i, j)` means that user `i` has not rated movie `j`."
   ]
  },
  {
   "cell_type": "code",
   "execution_count": 4,
   "metadata": {},
   "outputs": [
    {
     "data": {
      "text/html": [
       "<div>\n",
       "<style scoped>\n",
       "    .dataframe tbody tr th:only-of-type {\n",
       "        vertical-align: middle;\n",
       "    }\n",
       "\n",
       "    .dataframe tbody tr th {\n",
       "        vertical-align: top;\n",
       "    }\n",
       "\n",
       "    .dataframe thead th {\n",
       "        text-align: right;\n",
       "    }\n",
       "</style>\n",
       "<table border=\"1\" class=\"dataframe\">\n",
       "  <thead>\n",
       "    <tr style=\"text-align: right;\">\n",
       "      <th></th>\n",
       "      <th>527</th>\n",
       "      <th>367</th>\n",
       "      <th>184</th>\n",
       "      <th>324</th>\n",
       "      <th>579</th>\n",
       "      <th>34</th>\n",
       "      <th>343</th>\n",
       "      <th>123</th>\n",
       "      <th>510</th>\n",
       "      <th>391</th>\n",
       "    </tr>\n",
       "  </thead>\n",
       "  <tbody>\n",
       "    <tr>\n",
       "      <th>1</th>\n",
       "      <td>NaN</td>\n",
       "      <td>5.0</td>\n",
       "      <td>NaN</td>\n",
       "      <td>NaN</td>\n",
       "      <td>4.0</td>\n",
       "      <td>NaN</td>\n",
       "      <td>NaN</td>\n",
       "      <td>NaN</td>\n",
       "      <td>NaN</td>\n",
       "      <td>3.0</td>\n",
       "    </tr>\n",
       "    <tr>\n",
       "      <th>2</th>\n",
       "      <td>4.0</td>\n",
       "      <td>NaN</td>\n",
       "      <td>NaN</td>\n",
       "      <td>NaN</td>\n",
       "      <td>NaN</td>\n",
       "      <td>NaN</td>\n",
       "      <td>NaN</td>\n",
       "      <td>NaN</td>\n",
       "      <td>NaN</td>\n",
       "      <td>NaN</td>\n",
       "    </tr>\n",
       "    <tr>\n",
       "      <th>6</th>\n",
       "      <td>NaN</td>\n",
       "      <td>NaN</td>\n",
       "      <td>NaN</td>\n",
       "      <td>NaN</td>\n",
       "      <td>NaN</td>\n",
       "      <td>NaN</td>\n",
       "      <td>NaN</td>\n",
       "      <td>NaN</td>\n",
       "      <td>NaN</td>\n",
       "      <td>4.0</td>\n",
       "    </tr>\n",
       "    <tr>\n",
       "      <th>7</th>\n",
       "      <td>NaN</td>\n",
       "      <td>NaN</td>\n",
       "      <td>NaN</td>\n",
       "      <td>NaN</td>\n",
       "      <td>NaN</td>\n",
       "      <td>NaN</td>\n",
       "      <td>NaN</td>\n",
       "      <td>NaN</td>\n",
       "      <td>1.0</td>\n",
       "      <td>NaN</td>\n",
       "    </tr>\n",
       "    <tr>\n",
       "      <th>10</th>\n",
       "      <td>NaN</td>\n",
       "      <td>NaN</td>\n",
       "      <td>NaN</td>\n",
       "      <td>NaN</td>\n",
       "      <td>NaN</td>\n",
       "      <td>5.0</td>\n",
       "      <td>NaN</td>\n",
       "      <td>NaN</td>\n",
       "      <td>NaN</td>\n",
       "      <td>3.0</td>\n",
       "    </tr>\n",
       "  </tbody>\n",
       "</table>\n",
       "</div>"
      ],
      "text/plain": [
       "    527  367  184  324  579  34   343  123  510  391\n",
       "1   NaN  5.0  NaN  NaN  4.0  NaN  NaN  NaN  NaN  3.0\n",
       "2   4.0  NaN  NaN  NaN  NaN  NaN  NaN  NaN  NaN  NaN\n",
       "6   NaN  NaN  NaN  NaN  NaN  NaN  NaN  NaN  NaN  4.0\n",
       "7   NaN  NaN  NaN  NaN  NaN  NaN  NaN  NaN  1.0  NaN\n",
       "10  NaN  NaN  NaN  NaN  NaN  5.0  NaN  NaN  NaN  3.0"
      ]
     },
     "execution_count": 4,
     "metadata": {},
     "output_type": "execute_result"
    }
   ],
   "source": [
    "Y_with_NaNs.head()"
   ]
  },
  {
   "cell_type": "markdown",
   "metadata": {},
   "source": [
    "Now we will convert our data structure into a form that is appropriate for processing. We will convert the `Y_with_NaNs` dataframe into a new dataframe which contains the user, the movie, and the rating using the following code"
   ]
  },
  {
   "cell_type": "code",
   "execution_count": 3,
   "metadata": {},
   "outputs": [],
   "source": [
    "p_list_ratings = np.concatenate(list_ratings_each_user).ravel()\n",
    "p_list_ratings_original = p_list_ratings.tolist()\n",
    "mean_ratings_train = np.mean(p_list_ratings)\n",
    "p_list_ratings =  p_list_ratings - mean_ratings_train # remove the mean\n",
    "p_list_movies = np.concatenate(list_movies_each_user).ravel().tolist()\n",
    "p_list_users = list_users.tolist()\n",
    "Y = pd.DataFrame({'users': p_list_users, 'movies': p_list_movies, 'ratingsorig': p_list_ratings_original,'ratings':p_list_ratings.tolist()})"
   ]
  },
  {
   "cell_type": "markdown",
   "metadata": {},
   "source": [
    "### Assignment Question 3\n",
    "\n",
    "The dataframes `Y_with_NaNs` and `Y` contain the same information but organised in a different way. Explain what is the difference. We have also included two columns for ratings in dataframe `Y`, `ratingsorig` and `ratings`. Explain\n",
    "the difference. \n",
    "\n",
    "*10 marks*"
   ]
  },
  {
   "cell_type": "markdown",
   "metadata": {},
   "source": [
    "#### Question 3 Answer\n",
    "\n",
    "In `Y_with_NaNs`, each row denotes a single user with the columns being all the movie indexes. In that dataframe, each `(i, j)` element in a row denotes the rating user `i` gave to movie `j`. Hence, all the information about a user's ratings is given in a single row.\n",
    "\n",
    "On the other hand, `Y` does contain the same information, but instead of the ratings of a user being on a single row, here each row contains information about the rating of a user for a particular movie. This means that a user id appears in multiple rows, where in each row is given information about the user's rating for the particular movie. Note that each user appears in as many rows as the number of movies he has rated (below is given a comparison between the occurrences of two users).\n",
    "\n",
    "Aside from this structural difference, `Y` holds more information than `Y_with_NaNs`. Specifically, apart from the original rating (`ratingorig`) which is the rating of the user for the particular movie as also found in `Y_with_NaNs`, it also holds another column, `ratings`. The difference between these two columns is that while `ratingorig` holds the original rating, `ratings` holds the rating minus the mean value of all ratings."
   ]
  },
  {
   "cell_type": "code",
   "execution_count": 5,
   "metadata": {},
   "outputs": [
    {
     "data": {
      "text/plain": [
       "(167, 386)"
      ]
     },
     "execution_count": 5,
     "metadata": {},
     "output_type": "execute_result"
    }
   ],
   "source": [
    "len(Y[Y.users==527]), len(Y[Y.users==391])"
   ]
  },
  {
   "cell_type": "code",
   "execution_count": 5,
   "metadata": {},
   "outputs": [
    {
     "data": {
      "text/html": [
       "<div>\n",
       "<style scoped>\n",
       "    .dataframe tbody tr th:only-of-type {\n",
       "        vertical-align: middle;\n",
       "    }\n",
       "\n",
       "    .dataframe tbody tr th {\n",
       "        vertical-align: top;\n",
       "    }\n",
       "\n",
       "    .dataframe thead th {\n",
       "        text-align: right;\n",
       "    }\n",
       "</style>\n",
       "<table border=\"1\" class=\"dataframe\">\n",
       "  <thead>\n",
       "    <tr style=\"text-align: right;\">\n",
       "      <th></th>\n",
       "      <th>users</th>\n",
       "      <th>movies</th>\n",
       "      <th>ratingsorig</th>\n",
       "      <th>ratings</th>\n",
       "    </tr>\n",
       "  </thead>\n",
       "  <tbody>\n",
       "    <tr>\n",
       "      <th>0</th>\n",
       "      <td>527.0</td>\n",
       "      <td>2</td>\n",
       "      <td>4.0</td>\n",
       "      <td>0.26549</td>\n",
       "    </tr>\n",
       "    <tr>\n",
       "      <th>1</th>\n",
       "      <td>527.0</td>\n",
       "      <td>30</td>\n",
       "      <td>1.0</td>\n",
       "      <td>-2.73451</td>\n",
       "    </tr>\n",
       "    <tr>\n",
       "      <th>2</th>\n",
       "      <td>527.0</td>\n",
       "      <td>34</td>\n",
       "      <td>5.0</td>\n",
       "      <td>1.26549</td>\n",
       "    </tr>\n",
       "    <tr>\n",
       "      <th>3</th>\n",
       "      <td>527.0</td>\n",
       "      <td>48</td>\n",
       "      <td>3.0</td>\n",
       "      <td>-0.73451</td>\n",
       "    </tr>\n",
       "    <tr>\n",
       "      <th>4</th>\n",
       "      <td>527.0</td>\n",
       "      <td>260</td>\n",
       "      <td>5.0</td>\n",
       "      <td>1.26549</td>\n",
       "    </tr>\n",
       "  </tbody>\n",
       "</table>\n",
       "</div>"
      ],
      "text/plain": [
       "   users  movies  ratingsorig  ratings\n",
       "0  527.0       2          4.0  0.26549\n",
       "1  527.0      30          1.0 -2.73451\n",
       "2  527.0      34          5.0  1.26549\n",
       "3  527.0      48          3.0 -0.73451\n",
       "4  527.0     260          5.0  1.26549"
      ]
     },
     "execution_count": 5,
     "metadata": {},
     "output_type": "execute_result"
    }
   ],
   "source": [
    "Y.head()"
   ]
  },
  {
   "cell_type": "markdown",
   "metadata": {},
   "source": [
    "## Measuring Similarity\n",
    "\n",
    "We now need a measure for determining the similarity between the item and the user: how close the user is sitting to the item in the rooom if you like. We are going to use the inner product between the vector representing the item and the vector representing the user. \n",
    "\n",
    "An inner product (or [dot product](http://en.wikipedia.org/wiki/Dot_product)) between two vectors $\\mathbf{a}$ and $\\mathbf{b}$ is written as $\\mathbf{a}\\cdot\\mathbf{b}$. Or in vector notation we sometimes write it as $\\mathbf{a}^\\top\\mathbf{b}$. An inner product is simply the sume of the products of each element of the vector,\n",
    "$$\n",
    "\\mathbf{a}^\\top\\mathbf{b} = \\sum_{i} a_i b_i\n",
    "$$\n",
    "The inner product can be seen as a measure of similarity. The inner product gives us the cosine of the angle between the two vectors multiplied by their length. The smaller the angle between two vectors the larger the inner product. \n",
    "$$\n",
    "\\mathbf{a}^\\top\\mathbf{b} = |\\mathbf{a}||\\mathbf{b}| \\cos(\\theta)\n",
    "$$\n",
    "where $\\theta$ is the angle between two vectors and $|\\mathbf{a}|$ and $|\\mathbf{b}|$ are the respective lengths of the two vectors.\n",
    "\n",
    "Since we want each user to be sitting near each item, then we want the inner product to be large for any two items which are rated highly by that user. We can do this by trying to force the inner product $\\mathbf{u}_i^\\top\\mathbf{v}_j$ to be similar to the rating given by the user, $y_{i,j}$. To ensure this we will use a least squares objective function for all user ratings."
   ]
  },
  {
   "cell_type": "markdown",
   "metadata": {},
   "source": [
    "## Objective Function\n",
    "\n",
    "The error function (or objective function, or cost function) we will choose is known as 'sum of squares', we will aim to minimize the sum of squared squared error between the inner product of $\\mathbf{u}_i$ and $\\mathbf{v}_i$ and the observed score for the user/item pairing, given by $y_{i, j}$. \n",
    "\n",
    "The total objective function can be written as\n",
    "$$\n",
    "E(\\mathbf{U}, \\mathbf{V}) = \\sum_{i,j} s_{i,j} (y_{i,j} - \\mathbf{u}_i^\\top \\mathbf{v}_j)^2\n",
    "$$\n",
    "where $s_{i,j}$ is an *indicator* variable that is 1 if user $i$ has rated item $j$ and is zero otherwise. Here $\\mathbf{U}$ is the matrix made up of all the vectors $\\mathbf{u}$,\n",
    "$$\n",
    "\\mathbf{U} = \\begin{bmatrix} \\mathbf{u}_1 \\dots \\mathbf{u}_n\\end{bmatrix}^\\top\n",
    "$$\n",
    "where we note that $i$th *row* of $\\mathbf{U}$ contains the vector associated with the $i$th user and $n$ is the total number of users. This form of matrix is known as a *design matrix*. Similarly, we define the matrix\n",
    "$$\n",
    "\\mathbf{V} = \\begin{bmatrix} \\mathbf{v}_1 \\dots \\mathbf{v}_m\\end{bmatrix}^\\top\n",
    "$$\n",
    "where again the $j$th row of $\\mathbf{V}$ contains the vector associated with the $j$th item and $m$ is the total number of items in the data set.\n",
    "\n",
    "## Objective Optimization\n",
    "\n",
    "The idea is to mimimize this objective. A standard, simple, technique for minimizing an objective is *gradient descent* or *steepest descent*. In gradient descent we simply choose to update each parameter in the model by subtracting a multiple of the objective function's gradient with respect to the parameters. So for a parameter $u_{i,j}$ from the matrix $\\mathbf{U}$ we would have an update as follows:\n",
    "$$\n",
    "u_{k,\\ell} \\leftarrow u_{k,\\ell} - \\eta \\frac{\\text{d} E(\\mathbf{U}, \\mathbf{V})}{\\text{d}u_{k,\\ell}} \n",
    "$$\n",
    "where $\\eta$ (which is pronounced *eta* in English) is a Greek letter representing the *learning rate*.  \n",
    "\n",
    "We can compute the gradient of the objective function with respect to $u_{k,\\ell}$ as\n",
    "$$\n",
    "\\frac{\\text{d}E(\\mathbf{U}, \\mathbf{V})}{\\text{d}u_{k,\\ell}} = -2 \\sum_j s_{k,j}v_{j,\\ell}(y_{k, j} - \\mathbf{u}_k^\\top\\mathbf{v}_{j}). \n",
    "$$\n",
    "Similarly each parameter $v_{i,j}$ needs to be updated according to its gradient. \n"
   ]
  },
  {
   "cell_type": "markdown",
   "metadata": {},
   "source": [
    "### Assignment Question 4\n",
    "\n",
    "What is the gradient of the objective function with respect to $v_{k, \\ell}$? Write your answer in the box below, and explain which differentiation techniques you used to get there. You will be expected to justify your answer in class by oral questioning. \n",
    "\n",
    "*15 marks*"
   ]
  },
  {
   "cell_type": "markdown",
   "metadata": {},
   "source": [
    "#### Question 4 Answer\n",
    "\n",
    "The gradient with respect to $v_{k, \\ell}$ is:\n",
    "\n",
    "$$\\frac{\\text{d}E(\\mathbf{U}, \\mathbf{V})}{\\text{d}v_{k,\\ell}} = -2 \\sum_j s_{k,j}u_{j,\\ell}(y_{k, j} - \\mathbf{u}_k^\\top\\mathbf{v}_{j})$$\n",
    "\n",
    "To get to this result we use some of the core rules of differentiation. Note that $u_k^Tv_j = v_j^Tu_k$ (this is true for any $x$ and $y$)."
   ]
  },
  {
   "cell_type": "code",
   "execution_count": 64,
   "metadata": {},
   "outputs": [],
   "source": [
    "# Question 4 Code Answer\n",
    "\n",
    "# In a function, the above gradient:\n",
    "def gradient_v(s, u, v, y):\n",
    "    pred = np.dot(u, v)\n",
    "    return -2 * s * u * pow(y - pred, 2)"
   ]
  },
  {
   "cell_type": "markdown",
   "metadata": {},
   "source": [
    "## Steepest Descent Algorithm\n",
    "\n",
    "In the steepest descent algorithm we aim to minimize the objective function by subtacting the gradient of the objective function from the parameters. \n",
    "\n",
    "### Initialisation\n",
    "\n",
    "To start with though, we need initial values for the matrix $\\mathbf{U}$ and the matrix $\\mathbf{V}$. Let's create them as `pandas` data frames and initialise them randomly with small values."
   ]
  },
  {
   "cell_type": "code",
   "execution_count": 4,
   "metadata": {},
   "outputs": [],
   "source": [
    "q = 2 # the dimension of our map of the 'library'\n",
    "learn_rate = 0.01\n",
    "U = pd.DataFrame(np.random.normal(size=(nUsersInExample, q))*0.001, index=my_batch_users)\n",
    "V = pd.DataFrame(np.random.normal(size=(n_movies, q))*0.001, index=indexes_unique_movies)"
   ]
  },
  {
   "cell_type": "markdown",
   "metadata": {},
   "source": [
    "Now that we have the initial values set, we can start the optimization. First we define a function for the gradient of the objective and the objective function itself."
   ]
  },
  {
   "cell_type": "code",
   "execution_count": 5,
   "metadata": {},
   "outputs": [],
   "source": [
    "def objective_gradient(Y, U, V):\n",
    "    gU = pd.DataFrame(np.zeros((U.shape)), index=U.index)\n",
    "    gV = pd.DataFrame(np.zeros((V.shape)), index=V.index)\n",
    "    obj = 0.\n",
    "    nrows = Y.shape[0]\n",
    "    for i in range(nrows):\n",
    "        row = Y.iloc[i]\n",
    "        user = row['users']\n",
    "        film = row['movies']\n",
    "        rating = row['ratings']\n",
    "        prediction = np.dot(U.loc[user], V.loc[film]) # vTu\n",
    "        diff = prediction - rating # vTu - y\n",
    "        obj += diff*diff\n",
    "        gU.loc[user] += 2*diff*V.loc[film]\n",
    "        gV.loc[film] += 2*diff*U.loc[user]\n",
    "    return obj, gU, gV"
   ]
  },
  {
   "cell_type": "markdown",
   "metadata": {},
   "source": [
    "Now we can write our simple optimisation route. This allows us to observe the objective function as the optimization proceeds."
   ]
  },
  {
   "cell_type": "code",
   "execution_count": 6,
   "metadata": {},
   "outputs": [
    {
     "name": "stdout",
     "output_type": "stream",
     "text": [
      "Iteration 0 Objective function:  1643.88155437937\n",
      "Iteration 1 Objective function:  1643.8812388683154\n",
      "Iteration 2 Objective function:  1643.8807889430907\n",
      "Iteration 3 Objective function:  1643.87999543766\n",
      "Iteration 4 Objective function:  1643.8784652552888\n",
      "Iteration 5 Objective function:  1643.8753996420357\n",
      "Iteration 6 Objective function:  1643.8691344569856\n",
      "Iteration 7 Objective function:  1643.8561668925558\n",
      "Iteration 8 Objective function:  1643.8290822425106\n",
      "Iteration 9 Objective function:  1643.772126231762\n",
      "Iteration 10 Objective function:  1643.6517370350452\n",
      "Iteration 11 Objective function:  1643.3962925062247\n",
      "Iteration 12 Objective function:  1642.852828942998\n",
      "Iteration 13 Objective function:  1641.6948508737917\n",
      "Iteration 14 Objective function:  1639.2275493683355\n",
      "Iteration 15 Objective function:  1633.9838380518797\n",
      "Iteration 16 Objective function:  1622.921489853293\n",
      "Iteration 17 Objective function:  1599.984271967468\n",
      "Iteration 18 Objective function:  1554.2011516863822\n",
      "Iteration 19 Objective function:  1469.9576185505457\n"
     ]
    }
   ],
   "source": [
    "iterations = 20\n",
    "for i in range(iterations):\n",
    "    obj, gU, gV = objective_gradient(Y, U, V)\n",
    "    print(\"Iteration\", i, \"Objective function: \", obj)\n",
    "    U -= learn_rate*gU\n",
    "    V -= learn_rate*gV"
   ]
  },
  {
   "cell_type": "markdown",
   "metadata": {},
   "source": [
    "### Assignment Question 5\n",
    "\n",
    "What happens as you increase the number of iterations? What happens if you increase the learning rate?\n",
    "\n",
    "*10 marks*"
   ]
  },
  {
   "cell_type": "markdown",
   "metadata": {},
   "source": [
    "#### Question 5 Answer\n",
    "\n",
    "The more we increase the number of iterations, the more the objective function will be minimized.\n",
    "\n",
    "Increasing the learning rate will increase the speed of minimization and the objective function will reach its convergence value faster."
   ]
  },
  {
   "cell_type": "code",
   "execution_count": 10,
   "metadata": {},
   "outputs": [
    {
     "name": "stdout",
     "output_type": "stream",
     "text": [
      "Iteration 0 Objective function:  1643.8817930639248\n",
      "Iteration 1 Objective function:  1643.8812788982839\n",
      "Iteration 2 Objective function:  1643.8803252571593\n",
      "Iteration 3 Objective function:  1643.8765839876708\n",
      "Iteration 4 Objective function:  1643.8606638673357\n",
      "Iteration 5 Objective function:  1643.79047765262\n",
      "Iteration 6 Objective function:  1643.474083688146\n",
      "Iteration 7 Objective function:  1642.0282699075397\n",
      "Iteration 8 Objective function:  1635.3891366067103\n",
      "Iteration 9 Objective function:  1605.359570490547\n",
      "Iteration 10 Objective function:  1481.959148818066\n",
      "Iteration 11 Objective function:  1169.3954899130724\n",
      "Iteration 12 Objective function:  1124.0925219701642\n",
      "Iteration 13 Objective function:  1143.075040172306\n",
      "Iteration 14 Objective function:  989.7127183136854\n",
      "Iteration 15 Objective function:  870.8804002430999\n",
      "Iteration 16 Objective function:  630.5242073357324\n",
      "Iteration 17 Objective function:  548.7905289508182\n",
      "Iteration 18 Objective function:  386.5876635948321\n",
      "Iteration 19 Objective function:  374.56273790794364\n",
      "Iteration 20 Objective function:  276.6574610198038\n",
      "Iteration 21 Objective function:  346.91550071710185\n",
      "Iteration 22 Objective function:  256.26307038176327\n",
      "Iteration 23 Objective function:  335.0406523248747\n",
      "Iteration 24 Objective function:  242.18839460916996\n",
      "Iteration 25 Objective function:  326.0661921960614\n",
      "Iteration 26 Objective function:  222.5935746586703\n",
      "Iteration 27 Objective function:  303.8029984538844\n",
      "Iteration 28 Objective function:  202.37431590708832\n",
      "Iteration 29 Objective function:  283.3554942861292\n"
     ]
    }
   ],
   "source": [
    "# Question 5 Code Answer\n",
    "\n",
    "\n",
    "\"\"\"Reset U and V\"\"\"\n",
    "q = 2 # the dimension of our map of the 'library'\n",
    "U = pd.DataFrame(np.random.normal(size=(nUsersInExample, q))*0.001, index=my_batch_users)\n",
    "V = pd.DataFrame(np.random.normal(size=(n_movies, q))*0.001, index=indexes_unique_movies)\n",
    "\n",
    "\"\"\"Set learning rate and iterations\"\"\"\n",
    "learn_rate = 0.025\n",
    "iterations = 30\n",
    "\n",
    "\"\"\"Run optimizer again\"\"\"\n",
    "for i in range(iterations):\n",
    "    obj, gU, gV = objective_gradient(Y, U, V)\n",
    "    print(\"Iteration\", i, \"Objective function: \", obj)\n",
    "    U -= learn_rate*gU\n",
    "    V -= learn_rate*gV"
   ]
  },
  {
   "cell_type": "markdown",
   "metadata": {},
   "source": [
    "## Making Predictions\n",
    "\n",
    "Predictions can be made from the model of the appropriate rating for a given user, $i$, for a given film, $j$, by simply taking the inner product between their vectors $\\mathbf{u}_i$ and $\\mathbf{v}_j$. "
   ]
  },
  {
   "cell_type": "markdown",
   "metadata": {},
   "source": [
    "### Assignment Question 6\n",
    "\n",
    "Create a function that provides the prediction of the ratings for the users in the dataset. Is the quality of the predictions affected by the number of iterations or the learning rate? The function should receive `Y`, `U` and `V` and return the predictions and the absolute error between the predictions and the actual rating given by the users. The predictions and the absolute error should be added as additional columns to the dataframe `Y`.\n",
    "\n",
    "*15 marks*"
   ]
  },
  {
   "cell_type": "code",
   "execution_count": 11,
   "metadata": {},
   "outputs": [
    {
     "name": "stdout",
     "output_type": "stream",
     "text": [
      "Total error is 272.8452402439233\n"
     ]
    }
   ],
   "source": [
    "# Question 6 Code Answer\n",
    "\n",
    "\n",
    "\n",
    "predictions, absolute_error = [], []\n",
    "\n",
    "def predict(Y, U, V):\n",
    "    nrows = Y.shape[0]\n",
    "    total_error = 0\n",
    "    for i in range(nrows):\n",
    "        row = Y.iloc[i]\n",
    "        user, film, rating = row['users'], row['movies'], row['ratings']\n",
    "        \n",
    "        prediction = np.dot(U.loc[user], V.loc[film]) # vTu\n",
    "        diff = abs(prediction - rating) # vTu - y\n",
    "        \n",
    "        predictions.append(prediction)\n",
    "        absolute_error.append(diff)\n",
    "        \n",
    "        total_error += diff\n",
    "    \n",
    "    Y[\"predictions\"] = pd.Series(predictions)\n",
    "    Y[\"absolute_error\"] = pd.Series(absolute_error)\n",
    "    \n",
    "    return total_error\n",
    "\n",
    "total_error = predict(Y, U, V)\n",
    "print(\"Total error is {}\".format(total_error))"
   ]
  },
  {
   "cell_type": "code",
   "execution_count": 12,
   "metadata": {},
   "outputs": [
    {
     "data": {
      "text/html": [
       "<div>\n",
       "<style scoped>\n",
       "    .dataframe tbody tr th:only-of-type {\n",
       "        vertical-align: middle;\n",
       "    }\n",
       "\n",
       "    .dataframe tbody tr th {\n",
       "        vertical-align: top;\n",
       "    }\n",
       "\n",
       "    .dataframe thead th {\n",
       "        text-align: right;\n",
       "    }\n",
       "</style>\n",
       "<table border=\"1\" class=\"dataframe\">\n",
       "  <thead>\n",
       "    <tr style=\"text-align: right;\">\n",
       "      <th></th>\n",
       "      <th>users</th>\n",
       "      <th>movies</th>\n",
       "      <th>ratingsorig</th>\n",
       "      <th>ratings</th>\n",
       "      <th>predictions</th>\n",
       "      <th>absolute_error</th>\n",
       "    </tr>\n",
       "  </thead>\n",
       "  <tbody>\n",
       "    <tr>\n",
       "      <th>0</th>\n",
       "      <td>527.0</td>\n",
       "      <td>2</td>\n",
       "      <td>4.0</td>\n",
       "      <td>0.26549</td>\n",
       "      <td>0.249355</td>\n",
       "      <td>0.016135</td>\n",
       "    </tr>\n",
       "    <tr>\n",
       "      <th>1</th>\n",
       "      <td>527.0</td>\n",
       "      <td>30</td>\n",
       "      <td>1.0</td>\n",
       "      <td>-2.73451</td>\n",
       "      <td>-2.571349</td>\n",
       "      <td>0.163161</td>\n",
       "    </tr>\n",
       "    <tr>\n",
       "      <th>2</th>\n",
       "      <td>527.0</td>\n",
       "      <td>34</td>\n",
       "      <td>5.0</td>\n",
       "      <td>1.26549</td>\n",
       "      <td>0.526066</td>\n",
       "      <td>0.739424</td>\n",
       "    </tr>\n",
       "    <tr>\n",
       "      <th>3</th>\n",
       "      <td>527.0</td>\n",
       "      <td>48</td>\n",
       "      <td>3.0</td>\n",
       "      <td>-0.73451</td>\n",
       "      <td>-0.443655</td>\n",
       "      <td>0.290854</td>\n",
       "    </tr>\n",
       "    <tr>\n",
       "      <th>4</th>\n",
       "      <td>527.0</td>\n",
       "      <td>260</td>\n",
       "      <td>5.0</td>\n",
       "      <td>1.26549</td>\n",
       "      <td>0.793382</td>\n",
       "      <td>0.472108</td>\n",
       "    </tr>\n",
       "  </tbody>\n",
       "</table>\n",
       "</div>"
      ],
      "text/plain": [
       "   users  movies  ratingsorig  ratings  predictions  absolute_error\n",
       "0  527.0       2          4.0  0.26549     0.249355        0.016135\n",
       "1  527.0      30          1.0 -2.73451    -2.571349        0.163161\n",
       "2  527.0      34          5.0  1.26549     0.526066        0.739424\n",
       "3  527.0      48          3.0 -0.73451    -0.443655        0.290854\n",
       "4  527.0     260          5.0  1.26549     0.793382        0.472108"
      ]
     },
     "execution_count": 12,
     "metadata": {},
     "output_type": "execute_result"
    }
   ],
   "source": [
    "Y.head()"
   ]
  },
  {
   "cell_type": "markdown",
   "metadata": {},
   "source": [
    "## Stochastic Gradient Descent or Robbins Monroe Algorithm\n",
    "\n",
    "Stochastic gradient descent involves updating separating each gradient update according to each separate observation, rather than summing over them all. It is an approximate optimization method, but it has proven convergence under certain conditions and can be much faster in practice. It is used widely by internet companies for doing machine learning in practice. For example, Facebook's ad ranking algorithm uses stochastic gradient descent. "
   ]
  },
  {
   "cell_type": "markdown",
   "metadata": {},
   "source": [
    "### Assignment Question 7\n",
    "\n",
    "Create a stochastic gradient descent version of the algorithm. Monitor the objective function after every 1000 updates to ensure that it is decreasing. When you have finished, plot the movie map and the user map in two dimensions (you can use the columns of the matrices $\\mathbf{U}$ for the user map and the columns of $\\mathbf{V}$ for the movie map). Provide three observations about these maps.\n",
    "\n",
    "*25 marks*"
   ]
  },
  {
   "cell_type": "code",
   "execution_count": 17,
   "metadata": {},
   "outputs": [],
   "source": [
    "\"\"\"Before we begin, we will reset the U and V arrays\"\"\"\n",
    "\n",
    "q = 2 # the dimension of our map of the 'library'\n",
    "learn_rate = 0.01\n",
    "iterations = 50\n",
    "U = pd.DataFrame(np.random.normal(size=(nUsersInExample, q))*0.001, index=my_batch_users)\n",
    "V = pd.DataFrame(np.random.normal(size=(n_movies, q))*0.001, index=indexes_unique_movies)"
   ]
  },
  {
   "cell_type": "code",
   "execution_count": 18,
   "metadata": {},
   "outputs": [
    {
     "name": "stdout",
     "output_type": "stream",
     "text": [
      "Iteration 0 - Objective Function: 1218.565017478539\n",
      "Iteration 1 - Objective Function: 1380.27240926565\n",
      "Iteration 2 - Objective Function: 1307.440431370389\n",
      "Iteration 3 - Objective Function: 1239.5325364073365\n",
      "Iteration 4 - Objective Function: 1308.027182346359\n",
      "Iteration 5 - Objective Function: 1382.9305381327963\n",
      "Iteration 6 - Objective Function: 1252.0152445637932\n",
      "Iteration 7 - Objective Function: 1258.215846787835\n",
      "Iteration 8 - Objective Function: 1231.1176836048905\n",
      "Iteration 9 - Objective Function: 1264.919089408409\n",
      "Iteration 10 - Objective Function: 1318.4142522070074\n",
      "Iteration 11 - Objective Function: 1310.229842202244\n",
      "Iteration 12 - Objective Function: 1462.3477715828656\n",
      "Iteration 13 - Objective Function: 1287.1057105572277\n",
      "Iteration 14 - Objective Function: 1324.728158879003\n",
      "Iteration 15 - Objective Function: 1269.5466925094056\n",
      "Iteration 16 - Objective Function: 1361.969923583654\n",
      "Iteration 17 - Objective Function: 1227.8072330322452\n",
      "Iteration 18 - Objective Function: 1175.7385738108596\n",
      "Iteration 19 - Objective Function: 1312.68018236073\n",
      "Iteration 20 - Objective Function: 1150.94225674057\n",
      "Iteration 21 - Objective Function: 1145.8067853176449\n",
      "Iteration 22 - Objective Function: 1094.1507103987353\n",
      "Iteration 23 - Objective Function: 902.5653774546598\n",
      "Iteration 24 - Objective Function: 897.4888591179995\n",
      "Iteration 25 - Objective Function: 961.4544325813662\n",
      "Iteration 26 - Objective Function: 929.893698989784\n",
      "Iteration 27 - Objective Function: 910.6606939119521\n",
      "Iteration 28 - Objective Function: 851.1791229340587\n",
      "Iteration 29 - Objective Function: 805.2816802896705\n",
      "Iteration 30 - Objective Function: 745.2573387419411\n",
      "Iteration 31 - Objective Function: 687.8325155840433\n",
      "Iteration 32 - Objective Function: 640.09158591632\n",
      "Iteration 33 - Objective Function: 665.8048804526386\n",
      "Iteration 34 - Objective Function: 567.3469362918396\n",
      "Iteration 35 - Objective Function: 485.86299693483426\n",
      "Iteration 36 - Objective Function: 523.3113471101034\n",
      "Iteration 37 - Objective Function: 463.5657665552451\n",
      "Iteration 38 - Objective Function: 438.99292674714707\n",
      "Iteration 39 - Objective Function: 348.90654633196283\n",
      "Iteration 40 - Objective Function: 326.7177919715114\n",
      "Iteration 41 - Objective Function: 347.42882677368704\n",
      "Iteration 42 - Objective Function: 295.6089518967242\n",
      "Iteration 43 - Objective Function: 269.08622081038925\n",
      "Iteration 44 - Objective Function: 248.15589276912485\n",
      "Iteration 45 - Objective Function: 266.4747309346876\n",
      "Iteration 46 - Objective Function: 187.92440142599622\n",
      "Iteration 47 - Objective Function: 259.40472870017066\n",
      "Iteration 48 - Objective Function: 190.7834827809686\n",
      "Iteration 49 - Objective Function: 229.62922762578603\n"
     ]
    }
   ],
   "source": [
    "# Question 7 Code Answer\n",
    "\n",
    "\n",
    "\n",
    "\"\"\"Next we are going to write our Stochastic Descent function\n",
    "(documentation in the markdown cell below)\"\"\"\n",
    "\n",
    "def stochastic_gradient(Y, U, V, learn_rate, iterations):\n",
    "    for i in range(iterations):\n",
    "        obj = 0.\n",
    "        \n",
    "        # Stochastic Gradient Descent core\n",
    "        for j in range(1000):\n",
    "            row = Y.sample() # Pick a random element\n",
    "            user = row['users'].values[0]\n",
    "            film = row['movies'].values[0]\n",
    "            rating = row['ratings'].values[0]\n",
    "\n",
    "            prediction = np.dot(U.loc[user], V.loc[film]) # vTu\n",
    "            diff = prediction - rating # vTu - y\n",
    "            obj += diff*diff\n",
    "\n",
    "            # Update U and V\n",
    "            U.loc[user] -= 2*learn_rate*diff*V.loc[film]\n",
    "            V.loc[film] -= 2*learn_rate*diff*U.loc[user]\n",
    "        \n",
    "        print(\"Iteration {} - Objective Function: {}\".format(i, obj))\n",
    "\n",
    "\n",
    "\"\"\"Finally we will run the function, passing on our parameters\"\"\"\n",
    "stochastic_gradient(Y, U, V, learn_rate, iterations)"
   ]
  },
  {
   "cell_type": "markdown",
   "metadata": {},
   "source": [
    "The main difference between stochastic and steep gradient descent is that in the stochastic version of the algorithm, updates occur after each example/datum is processed. In the steep version updates occur after each epoch, ie. after all the examples have been processed. The stochastic algorithm thus allows online updating of our parameters, which means data can be used for the update process as soon as it becomes available to us (ie. we have a stream of constantly arriving data).\n",
    "\n",
    "Here, we want to monitor the progress every 1000 updates. So, we sample randomly one datum 1000 times and we make our updates. This process is repeated an amount equal to `iterations`. Our function, `stochastic_gradient`, runs the Stochastic Gradient Descent algorithm on each iteration.\n",
    "\n",
    "*NOTE:* In the normal Stochastic Gradient Descent algorithm, we do not need to use epochs/iterations, but instead we keep updating our parameters as data rolls in, until a certain condition is met (for example, our objective function falls below a given threshold). Here, this condition is a simple loop for the purposes of this exercise."
   ]
  },
  {
   "cell_type": "code",
   "execution_count": 57,
   "metadata": {},
   "outputs": [
    {
     "data": {
      "image/png": "[encoded data removed]",
      "text/plain": [
       "<Figure size 432x288 with 1 Axes>"
      ]
     },
     "metadata": {},
     "output_type": "display_data"
    }
   ],
   "source": [
    "%matplotlib inline\n",
    "import matplotlib.pyplot as plt\n",
    "\n",
    "plt.scatter(U[0], U[1])\n",
    "plt.show()"
   ]
  },
  {
   "cell_type": "code",
   "execution_count": 58,
   "metadata": {},
   "outputs": [
    {
     "data": {
      "image/png": "[encoded data removed]",
      "text/plain": [
       "<Figure size 432x288 with 1 Axes>"
      ]
     },
     "metadata": {},
     "output_type": "display_data"
    }
   ],
   "source": [
    "plt.scatter(V[0], V[1], color='r')\n",
    "plt.show()"
   ]
  },
  {
   "cell_type": "markdown",
   "metadata": {},
   "source": [
    "#### Observations\n",
    "\n",
    "*Note that since stochastic gradient descent is non-deterministic, there may be some slight differences between observations and the plots shown above when ran. For this reason, I have included images for my observations.*\n",
    "\n",
    "1) The map of `U` is divided into three areas. A couple of users are on the left hand side, a couple are on the right hand side, while most are around the center. This goes to show that the users examined here can be loosely categorized into three categories, with significant differences in taste. Even though the number of users here is small, with more users we will be expecting more and clearer clusters of users to appear, grouped by the similarity of their preferences.\n",
    "\n",
    "2) In the map of `V`, a lot of points are clustered around the `(0, 0)` mark. This potentially means that a lot of movies are similar to each other, without much to differentiate them. Maybe they have something that can appeal to anyone, with slightly generic content/storyline/characters.\n",
    "\n",
    "3) In `V`, we can also notice some other patterns that run through the plot. Movies seem to be following four major lines, with all of them passing through the center. This shows the similarity amongst movies, which seem to fall under four broad categories."
   ]
  },
  {
   "cell_type": "code",
   "execution_count": 59,
   "metadata": {},
   "outputs": [
    {
     "data": {
      "text/html": [
       "<img src=\"https://i.imgur.com/FwYzify.png\"/>"
      ],
      "text/plain": [
       "<IPython.core.display.Image object>"
      ]
     },
     "execution_count": 59,
     "metadata": {},
     "output_type": "execute_result"
    }
   ],
   "source": [
    "from IPython.display import Image\n",
    "from IPython.core.display import HTML\n",
    "\n",
    "# U Map\n",
    "Image(url= \"https://i.imgur.com/FwYzify.png\")"
   ]
  },
  {
   "cell_type": "code",
   "execution_count": 60,
   "metadata": {},
   "outputs": [
    {
     "data": {
      "text/html": [
       "<img src=\"https://i.imgur.com/oRgj8Vx.png\"/>"
      ],
      "text/plain": [
       "<IPython.core.display.Image object>"
      ]
     },
     "execution_count": 60,
     "metadata": {},
     "output_type": "execute_result"
    }
   ],
   "source": [
    "# V Map\n",
    "Image(url=\"https://i.imgur.com/oRgj8Vx.png\")"
   ]
  },
  {
   "cell_type": "code",
   "execution_count": 61,
   "metadata": {},
   "outputs": [
    {
     "data": {
      "text/html": [
       "<img src=\"https://i.imgur.com/2foiNDv.png\"/>"
      ],
      "text/plain": [
       "<IPython.core.display.Image object>"
      ]
     },
     "execution_count": 61,
     "metadata": {},
     "output_type": "execute_result"
    }
   ],
   "source": [
    "# Observation 3\n",
    "Image(url=\"https://i.imgur.com/2foiNDv.png\")"
   ]
  },
  {
   "cell_type": "markdown",
   "metadata": {},
   "source": [
    "## Is Our Map Enough? Are Our Data Enough?\n",
    "\n",
    "Is two dimensions really enough to capture the complexity of humans and their artforms? Perhaps we need even more dimensions to capture that complexity. Extending our books analogy further, consider how we should place books that have a historical timeframe as well as some geographical location. Do we really want books from the 2nd World War to sit alongside books from the Roman Empire? Books on the American invasion of Sicily in 1943 are perhaps less related to books about Carthage than those that study the Jewish Revolt from 66-70 (in the Roman Province of Judaea). So books that relate to subjects which are closer in time should be stored together. However, a student of rebellion against empire may also be interested in the relationship between the Jewish Revolt of 66-70 and the Indian Rebellion of 1857, nearly 1800 years later. Whilst the technologies are different, the psychology of the people is shared: a rebellious nation angainst their imperial masters, triggered by misrule with a religious and cultural background. To capture such complexities we would need further dimensions in our latent representation. But are further dimensions justified by the amount of data we have? Can we really understand the facets of a film that only has at most three or four ratings?"
   ]
  },
  {
   "cell_type": "markdown",
   "metadata": {},
   "source": [
    "## Going Further\n",
    "\n",
    "If you want to take this model further then you'll need more data. You can use again the MovieLens 100k data but increasing the number of users (for example, for the Steepest Descent Algorithm you can do this by modifying the variable `nUsersInExample` that was set as 10 before)."
   ]
  },
  {
   "cell_type": "markdown",
   "metadata": {},
   "source": [
    "### Assignment Question 8\n",
    "\n",
    "Use stochastic gradient descent to make a movie map for the MovieLens 100k data. Plot the map of the movies when you are finished.\n",
    "\n",
    "*15 marks*"
   ]
  },
  {
   "cell_type": "code",
   "execution_count": 16,
   "metadata": {},
   "outputs": [
    {
     "name": "stdout",
     "output_type": "stream",
     "text": [
      "Iteration 0 - Objective Function: 1270.9017448401028\n",
      "Iteration 1 - Objective Function: 1286.4078214773126\n",
      "Iteration 2 - Objective Function: 1204.7329497703165\n",
      "Iteration 3 - Objective Function: 1183.1198084232617\n",
      "Iteration 4 - Objective Function: 1271.2740388739157\n",
      "Iteration 5 - Objective Function: 1258.3382818144717\n",
      "Iteration 6 - Objective Function: 1381.6716970795446\n",
      "Iteration 7 - Objective Function: 1235.4439204898729\n",
      "Iteration 8 - Objective Function: 1319.918800374422\n",
      "Iteration 9 - Objective Function: 1281.0698115863904\n",
      "Iteration 10 - Objective Function: 1290.663831868133\n",
      "Iteration 11 - Objective Function: 1263.0452970869162\n",
      "Iteration 12 - Objective Function: 1212.3035838088801\n",
      "Iteration 13 - Objective Function: 1325.8356393469064\n",
      "Iteration 14 - Objective Function: 1356.7696881772877\n",
      "Iteration 15 - Objective Function: 1364.5236088738131\n",
      "Iteration 16 - Objective Function: 1308.5870879024428\n",
      "Iteration 17 - Objective Function: 1277.9542399417203\n",
      "Iteration 18 - Objective Function: 1290.0262144222063\n",
      "Iteration 19 - Objective Function: 1396.9449723533985\n",
      "Iteration 20 - Objective Function: 1289.368278945187\n",
      "Iteration 21 - Objective Function: 1160.5405479612148\n",
      "Iteration 22 - Objective Function: 1103.5260251060963\n",
      "Iteration 23 - Objective Function: 960.1496158398141\n",
      "Iteration 24 - Objective Function: 963.557152280107\n",
      "Iteration 25 - Objective Function: 950.4240303652173\n",
      "Iteration 26 - Objective Function: 984.9774489340045\n",
      "Iteration 27 - Objective Function: 899.3118398228278\n",
      "Iteration 28 - Objective Function: 790.09862448824\n",
      "Iteration 29 - Objective Function: 905.8410726309177\n",
      "Iteration 30 - Objective Function: 812.2933444138569\n",
      "Iteration 31 - Objective Function: 834.2964153894769\n",
      "Iteration 32 - Objective Function: 823.5306735018261\n",
      "Iteration 33 - Objective Function: 879.7454934225384\n",
      "Iteration 34 - Objective Function: 779.6427170507061\n",
      "Iteration 35 - Objective Function: 816.5494962332684\n",
      "Iteration 36 - Objective Function: 737.7182452705814\n",
      "Iteration 37 - Objective Function: 654.1222776878723\n",
      "Iteration 38 - Objective Function: 640.315618162843\n",
      "Iteration 39 - Objective Function: 550.0236626518084\n",
      "Iteration 40 - Objective Function: 436.4277696078762\n",
      "Iteration 41 - Objective Function: 370.12479256811196\n",
      "Iteration 42 - Objective Function: 365.2453855694075\n",
      "Iteration 43 - Objective Function: 293.5347607466235\n",
      "Iteration 44 - Objective Function: 235.1960159443471\n",
      "Iteration 45 - Objective Function: 246.9942644732422\n",
      "Iteration 46 - Objective Function: 224.7620510172576\n",
      "Iteration 47 - Objective Function: 213.1932377338116\n",
      "Iteration 48 - Objective Function: 170.6916745321439\n",
      "Iteration 49 - Objective Function: 204.4200148523146\n"
     ]
    },
    {
     "data": {
      "image/png": "[encoded data removed]",
      "text/plain": [
       "<Figure size 432x288 with 1 Axes>"
      ]
     },
     "metadata": {},
     "output_type": "display_data"
    }
   ],
   "source": [
    "# Code for question 8 here.\n",
    "\n",
    "\n",
    "\n",
    "\"\"\"Reset the U and V arrays\"\"\"\n",
    "\n",
    "q = 2 # the dimension of our map of the 'library'\n",
    "learn_rate = 0.01\n",
    "iterations = 50\n",
    "U = pd.DataFrame(np.random.normal(size=(nUsersInExample, q))*0.001, index=my_batch_users)\n",
    "V = pd.DataFrame(np.random.normal(size=(n_movies, q))*0.001, index=indexes_unique_movies)\n",
    "\n",
    "\n",
    "\"\"\"Stochastic Gradient Descent\"\"\"\n",
    "def stochastic_gradient(Y, U, V, learn_rate, iterations):\n",
    "    for i in range(iterations):\n",
    "        obj = 0.\n",
    "        \n",
    "        for j in range(1000):\n",
    "            row = Y.sample() # Pick a random element\n",
    "            user = row['users'].values[0]\n",
    "            film = row['movies'].values[0]\n",
    "            rating = row['ratings'].values[0]\n",
    "\n",
    "            prediction = np.dot(U.loc[user], V.loc[film]) # vTu\n",
    "            diff = prediction - rating # vTu - y\n",
    "            obj += diff*diff\n",
    "\n",
    "            U.loc[user] -= 2*learn_rate*diff*V.loc[film]\n",
    "            V.loc[film] -= 2*learn_rate*diff*U.loc[user]\n",
    "        \n",
    "        print(\"Iteration {} - Objective Function: {}\".format(i, obj))\n",
    "\n",
    "stochastic_gradient(Y, U, V, learn_rate, iterations)\n",
    "\n",
    "\n",
    "\"\"\"Plotting\"\"\"\n",
    "plt.scatter(V[0], V[1], color='r', marker='*')\n",
    "plt.show()"
   ]
  }
 ],
 "metadata": {
  "kernelspec": {
   "display_name": "Python 3",
   "language": "python",
   "name": "python3"
  },
  "language_info": {
   "codemirror_mode": {
    "name": "ipython",
    "version": 3
   },
   "file_extension": ".py",
   "mimetype": "text/x-python",
   "name": "python",
   "nbconvert_exporter": "python",
   "pygments_lexer": "ipython3",
   "version": "3.6.5"
  }
 },
 "nbformat": 4,
 "nbformat_minor": 1
}
